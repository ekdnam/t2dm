{
 "cells": [
  {
   "cell_type": "code",
   "execution_count": 32,
   "metadata": {},
   "outputs": [],
   "source": [
    "import pandas as pd\n",
    "import numpy as np\n",
    "import matplotlib.pyplot as plt\n",
    "import pymongo\n",
    "import time\n",
    "import glob\n",
    "import os"
   ]
  },
  {
   "cell_type": "code",
   "execution_count": 33,
   "metadata": {},
   "outputs": [],
   "source": [
    "from pymongo import MongoClient"
   ]
  },
  {
   "cell_type": "code",
   "execution_count": 34,
   "metadata": {},
   "outputs": [],
   "source": [
    "mongoClient = MongoClient(\"mongodb://localhost:27017/\")\n",
    "db = mongoClient['t2dm']\n",
    "col = db['allData']"
   ]
  },
  {
   "cell_type": "code",
   "execution_count": 35,
   "metadata": {},
   "outputs": [],
   "source": [
    "query = col.find({'insulin': 1, 'mortality': 1, 'odds_ratio': 1, 'is_downloaded': 0})\n",
    "pmids = []\n",
    "titles = []"
   ]
  },
  {
   "cell_type": "code",
   "execution_count": 36,
   "metadata": {},
   "outputs": [],
   "source": [
    "for data in query:\n",
    "    pmids.append(data['pmid'])\n",
    "    titles.append(data['title'])"
   ]
  },
  {
   "cell_type": "code",
   "execution_count": 37,
   "metadata": {},
   "outputs": [
    {
     "data": {
      "text/plain": [
       "[30694322.0,\n",
       " 19318384.0,\n",
       " 29488676.0,\n",
       " 12771873.0,\n",
       " 19623047.0,\n",
       " 20715734.0,\n",
       " 29769112.0,\n",
       " 23271103.0,\n",
       " 26088909.0,\n",
       " 30535668.0,\n",
       " 30686567.0,\n",
       " 17599483.0,\n",
       " 25888011.0,\n",
       " 22452807.0,\n",
       " 18503925.0,\n",
       " 11729370.0,\n",
       " 21963581.0,\n",
       " 17434094.0,\n",
       " 19387173.0,\n",
       " 24420499.0,\n",
       " 8203424.0,\n",
       " 20888671.0,\n",
       " 24857051.0,\n",
       " 26119654.0,\n",
       " 25999212.0,\n",
       " 25770704.0,\n",
       " 21248294.0,\n",
       " 16098296.0,\n",
       " 20561594.0,\n",
       " 28838399.0,\n",
       " 12438289.0,\n",
       " 15886232.0,\n",
       " 8960845.0,\n",
       " 6140355.0,\n",
       " 15976800.0,\n",
       " 20815045.0,\n",
       " 16504835.0,\n",
       " 10526912.0,\n",
       " 9207639.0]"
      ]
     },
     "execution_count": 37,
     "metadata": {},
     "output_type": "execute_result"
    }
   ],
   "source": [
    "pmids"
   ]
  },
  {
   "cell_type": "code",
   "execution_count": 38,
   "metadata": {},
   "outputs": [
    {
     "data": {
      "text/plain": [
       "['Effect of Hydrocortisone Therapy Initiated 7 to 14 Days After Birth on Mortality or Bronchopulmonary Dysplasia Among Very Preterm Infants Receiving Mechanical Ventilation: A Randomized Clinical Trial',\n",
       " 'Intensive versus conventional glucose control in critically ill patients',\n",
       " 'Treatment with insulin is associated with worse outcome in patients with chronic heart failure and diabetes',\n",
       " 'Continuous insulin infusion reduces mortality in patients with diabetes undergoing coronary artery bypass grafting',\n",
       " 'Hypoglycemia with intensive insulin therapy in critically ill patients: predisposing factors and association with mortality',\n",
       " 'Glycaemic fluctuation predicts mortality in critically ill patients',\n",
       " 'Association between β-blocker use and mortality in critically ill patients: a nested cohort study',\n",
       " 'The potential impact of admission insulin levels on patient outcome in the intensive care unit',\n",
       " 'Intensive versus conventional glucose control in critically ill patients with traumatic brain injury: long-term follow-up of a subgroup of patients from the NICE-SUGAR study',\n",
       " 'Steroids in cardiac surgery trial: a substudy of surgical site infections',\n",
       " 'Hepatosteatosis may predict late recurrence of breast cancer: A single-center observational study',\n",
       " 'Strict glycemic control reduces EuroSCORE expected mortality in diabetic patients undergoing myocardial revascularization',\n",
       " 'Severe and multiple hypoglycemic episodes are associated with increased risk of death in ICU patients',\n",
       " 'Out-of-hospital administration of intravenous glucose-insulin-potassium in patients with suspected acute coronary syndromes: the IMMEDIATE randomized controlled trial',\n",
       " 'Does continuous insulin therapy reduce postoperative supraventricular tachycardia incidence after coronary artery bypass operations in diabetic patients?',\n",
       " 'Sulfonylureas are not associated with increased mortality in diabetics treated with thrombolysis for acute myocardial infarction',\n",
       " 'A multifaceted program for improving quality of care in intensive care units: IATROREF study',\n",
       " 'Glucose-potassium-insulin infusions in the management of post-stroke hyperglycaemia: the UK Glucose Insulin in Stroke Trial (GIST-UK)',\n",
       " 'Continuous perioperative insulin infusion decreases major cardiovascular events in patients undergoing vascular surgery: a prospective, randomized trial',\n",
       " 'Tight computerized versus conventional glucose control in the ICU: a randomized controlled trial',\n",
       " 'Perinatal outcome with the modified biophysical profile',\n",
       " 'Association of preservative-free propofol use and outcome in critically ill patients',\n",
       " 'Laparoscopic Roux-en-Y gastric bypass for nonobese type II diabetes mellitus in Asian patients',\n",
       " 'On-Statin Resistin, Leptin, and Risk of Recurrent Coronary Events After Hospitalization for an Acute Coronary Syndrome (from the Pravastatin or Atorvastatin Evaluation and Infection Therapy-Thrombolysis in Myocardial Infarction 22 Study)',\n",
       " 'Associations of Coffee Drinking with Systemic Immune and Inflammatory Markers',\n",
       " 'Improved sleep quality in older adults with insomnia reduces biomarkers of disease risk: pilot results from a randomized controlled comparative efficacy trial',\n",
       " 'Correlates of insulin resistance in older individuals with and without kidney disease',\n",
       " 'Impact of in-hospital acquired thrombocytopenia in patients undergoing primary angioplasty for acute myocardial infarction',\n",
       " 'Pretransplantation C-Peptide level predicts early posttransplantation diabetes mellitus and has an impact on survival after allogeneic stem cell transplantation',\n",
       " 'Phase I clinical trials in patients with advanced non-small cell lung cancer treated within a Drug Development Unit: What have we learnt?',\n",
       " 'Coronary bypass graft patency in patients with diabetes in the Bypass Angioplasty Revascularization Investigation (BARI)',\n",
       " \"Serum 3,3',5'-triiodothyronine (rT3) and 3,5,3'-triiodothyronine/rT3 are prognostic markers in critically ill patients and are associated with postmortem tissue deiodinase activities\",\n",
       " 'Risk factors for myocardial infarction and death in newly detected NIDDM: the Diabetes Intervention Study, 11-year follow-up',\n",
       " 'Poor reproductive outcome in insulin-dependent diabetic women associated with later development of other endocrine disorders in the mothers',\n",
       " 'ST-segment elevation resolution and outcome in patients treated with primary angioplasty and glucose-insulin-potassium infusion',\n",
       " 'Comparison of three-year clinical outcomes between sirolimus-versus paclitaxel-eluting stents in diabetic patients: prospective randomized multicenter trial',\n",
       " 'The association between metabolic control and prevalent macrovascular disease in Type 2 diabetes: the VA Cooperative Study in diabetes',\n",
       " 'Effects of intensified antihypertensive treatment in diabetic nephropathy: mortality and morbidity results of a prospective controlled 10-year study',\n",
       " 'Influence of diabetes mellitus on clinical outcome in the thrombolytic era of acute myocardial infarction. GUSTO-I Investigators. Global Utilization of Streptokinase and Tissue Plasminogen Activator for Occluded Coronary Arteries']"
      ]
     },
     "execution_count": 38,
     "metadata": {},
     "output_type": "execute_result"
    }
   ],
   "source": [
    "titles"
   ]
  },
  {
   "cell_type": "code",
   "execution_count": 39,
   "metadata": {},
   "outputs": [],
   "source": [
    "pmids = [int(x) for x in pmids]"
   ]
  },
  {
   "cell_type": "code",
   "execution_count": 40,
   "metadata": {},
   "outputs": [
    {
     "name": "stdout",
     "output_type": "stream",
     "text": [
      "[30694322, 19318384, 29488676, 12771873, 19623047, 20715734, 29769112, 23271103, 26088909, 30535668, 30686567, 17599483, 25888011, 22452807, 18503925, 11729370, 21963581, 17434094, 19387173, 24420499, 8203424, 20888671, 24857051, 26119654, 25999212, 25770704, 21248294, 16098296, 20561594, 28838399, 12438289, 15886232, 8960845, 6140355, 15976800, 20815045, 16504835, 10526912, 9207639]\n"
     ]
    }
   ],
   "source": [
    "print(pmids)"
   ]
  },
  {
   "cell_type": "code",
   "execution_count": 70,
   "metadata": {},
   "outputs": [],
   "source": [
    "import selenium\n",
    "\n",
    "from selenium import webdriver\n",
    "\n",
    "# driver = webdriver.Chrome(r'C:/chromedriver/chromedriver.exe')"
   ]
  },
  {
   "cell_type": "code",
   "execution_count": 71,
   "metadata": {},
   "outputs": [],
   "source": [
    "options = webdriver.ChromeOptions()\n",
    "prefs = {\n",
    "    'download.default_directory': r\"E:\\Repos\\GitHub\\source\\t2dm\\temp\",\n",
    "      \"download.prompt_for_download\": False\n",
    "}\n",
    "options.add_experimental_option('prefs', prefs)"
   ]
  },
  {
   "cell_type": "code",
   "execution_count": 72,
   "metadata": {},
   "outputs": [
    {
     "name": "stderr",
     "output_type": "stream",
     "text": [
      "<ipython-input-72-df9c29ed789c>:1: DeprecationWarning: use options instead of chrome_options\n",
      "  driver = webdriver.Chrome(r'C:/chromedriver/chromedriver.exe', chrome_options = options)\n"
     ]
    }
   ],
   "source": [
    "driver = webdriver.Chrome(r'C:/chromedriver/chromedriver.exe', chrome_options = options)"
   ]
  },
  {
   "cell_type": "code",
   "execution_count": 74,
   "metadata": {},
   "outputs": [],
   "source": [
    "def download(pmids, titles):\n",
    "    print(f\"Total files are: {len(pmids)}\")\n",
    "    i = 1\n",
    "    for pmid, title in zip(pmids, titles):\n",
    "        print(f\"Iteration {i}\")\n",
    "        i += 1\n",
    "        # go to link\n",
    "        print(\"accessing link\")\n",
    "        driver.get(\"https://sci-hub.se/\")\n",
    "        search_box = driver.find_element_by_name(\"request\")\n",
    "        \n",
    "        # send pmid to selenium browser\n",
    "        print(\"sending keys\")\n",
    "        search_box.send_keys(str(pmid))\n",
    "        driver.execute_script('''\n",
    "            var elem = arguments[0];\n",
    "            var value = arguments[1]\n",
    "            elem.value = value;\n",
    "        ''',search_box, str(pmid))\n",
    "        print(\"executing script\")\n",
    "        value = driver.execute_script('return arguments[0].value', search_box)\n",
    "        \n",
    "        # check whether values are correct\n",
    "        print(f\"value returned: {value}\")\n",
    "        print(\"pmid: \" + str(pmid))\n",
    "        print(\"check whether values match\")\n",
    "        if(int(pmid) == int(value)):\n",
    "            print(\"values verified\")\n",
    "        else:\n",
    "            break\n",
    "        \n",
    "        # click submit form\n",
    "        print(\"going to pdf\")\n",
    "        driver.execute_script(\"javascript:document.forms[0].submit()\")\n",
    "        \n",
    "        # access pdf download buutons\n",
    "        print(\"accessing pdf download buttons\")\n",
    "        element = driver.find_element_by_xpath(\"//div[@id='article']/iframe\")\n",
    "        print(element.get_attribute(\"src\"))\n",
    "        \n",
    "        # download pdf\n",
    "        print(\"downloading pdf\")\n",
    "        driver.get(str(element.get_attribute('src')))\n",
    "        \n",
    "        time.sleep(10)\n",
    "        \n",
    "        # get_pdfs\n",
    "        pdf_files = get_pdfs()\n",
    "\n",
    "        # check whether size is 1\n",
    "        if len(pdf_files) != 1:\n",
    "            print(\"Cannot rename file, exiting\")\n",
    "            break\n",
    "            \n",
    "        title = title.replace(\" \", \"_\")\n",
    "        # rename files\n",
    "        rename_files(pdf_files[0], str(pmid), 'insulin_mortality_odds_ratio')\n",
    "        print(f\"{pdf_files[0]} renamed to {title}.pdf\")\n",
    "        \n",
    "        # update equivalent document in mongodb\n",
    "        print(\"updating mongodb\")\n",
    "        update(pmid)\n",
    "        \n",
    "        \n",
    "        time.sleep(300)"
   ]
  },
  {
   "cell_type": "code",
   "execution_count": 75,
   "metadata": {},
   "outputs": [],
   "source": [
    "def get_pdfs():\n",
    "    path = 'E:/Repos/GitHub/source/t2dm/temp'\n",
    "    pdf_files = [f for f in os.listdir(path) if f.endswith('.pdf')]\n",
    "    return pdf_files"
   ]
  },
  {
   "cell_type": "code",
   "execution_count": 76,
   "metadata": {},
   "outputs": [],
   "source": [
    "pdf_files = get_pdfs()"
   ]
  },
  {
   "cell_type": "code",
   "execution_count": 77,
   "metadata": {},
   "outputs": [],
   "source": [
    "def rename_files(src: str,dst: str, folder_name: str):\n",
    "    filepath = f\"temp/{src}\"\n",
    "    filepath = filepath.replace(\"/\", \"\\\\\")\n",
    "    cwd = os.getcwd()\n",
    "    old_path = os.path.join(cwd, filepath)\n",
    "#     newfilepath = f\"papers/{folder_name}/{dst}.pdf\"\n",
    "    newfilepath = f\"papers/{folder_name}/\"\n",
    "    newfilepath = newfilepath.replace(\"/\", \"\\\\\")\n",
    "    new_path = os.path.join(cwd, newfilepath)\n",
    "    print(\"Old path \" + old_path)\n",
    "    print(newfilepath)\n",
    "    if os.path.exists(old_path):\n",
    "        os.rename(old_path, new_path + dst + \".pdf\")\n",
    "    else:\n",
    "        print(\"File does not exist\")"
   ]
  },
  {
   "cell_type": "code",
   "execution_count": 78,
   "metadata": {},
   "outputs": [],
   "source": [
    "def update(pmid: int):\n",
    "    myquery = {\"pmid\": pmid}\n",
    "    newvalues = {\"$set\": {\"is_downloaded\": 1}}\n",
    "    col.update_one(myquery, newvalues)"
   ]
  },
  {
   "cell_type": "code",
   "execution_count": 79,
   "metadata": {},
   "outputs": [],
   "source": [
    "def get_actual_filename(name):\n",
    "    dirs = name.split('\\\\')\n",
    "    # disk letter\n",
    "    test_name = [dirs[0].upper()]\n",
    "    for d in dirs[1:]:\n",
    "        test_name += [\"%s[%s]\" % (d[:-1], d[-1])]\n",
    "    res = glob.glob('\\\\'.join(test_name))\n",
    "    if not res:\n",
    "        #File not found\n",
    "        return None\n",
    "    return res[0]"
   ]
  },
  {
   "cell_type": "code",
   "execution_count": 80,
   "metadata": {},
   "outputs": [
    {
     "name": "stdout",
     "output_type": "stream",
     "text": [
      "Old path E:\\Repos\\GitHub\\source\\t2dm\\temp\\sales2014.pdf\n",
      "papers\\insulin_mortality_odds_ratio\\\n",
      "File does not exist\n"
     ]
    }
   ],
   "source": [
    "# rename_files(\"hi.pdf\", \"Effect of Hydrocortisone Therapy Initiated 7 to 14 Days After Birth on Mortality or Bronchopulmonary Dysplasia among Very Preterm Infants Receiving Mechanical Ventilation- A Randomized Clinical Trial\", 'insulin_mortality_odds_ratio')\n",
    "rename_files(\"sales2014.pdf\", \"xyz1423W\", 'insulin_mortality_odds_ratio')"
   ]
  },
  {
   "cell_type": "code",
   "execution_count": null,
   "metadata": {},
   "outputs": [
    {
     "name": "stdout",
     "output_type": "stream",
     "text": [
      "Total files are: 39\n",
      "Iteration 1\n",
      "accessing link\n",
      "sending keys\n",
      "executing script\n",
      "value returned: 30694322\n",
      "pmid: 30694322\n",
      "check whether values match\n",
      "values verified\n",
      "going to pdf\n",
      "accessing pdf download buttons\n",
      "https://dacemirror.sci-hub.se/journal-article/c8a7ccd7bb0b194a20f2a8a7a0fe345d/onland2019.pdf#view=FitH\n",
      "downloading pdf\n",
      "Old path E:\\Repos\\GitHub\\source\\t2dm\\temp\\onland2019.pdf\n",
      "papers\\insulin_mortality_odds_ratio\\\n",
      "onland2019.pdf renamed to Effect_of_Hydrocortisone_Therapy_Initiated_7_to_14_Days_After_Birth_on_Mortality_or_Bronchopulmonary_Dysplasia_Among_Very_Preterm_Infants_Receiving_Mechanical_Ventilation:_A_Randomized_Clinical_Trial.pdf\n",
      "updating mongodb\n"
     ]
    }
   ],
   "source": [
    "download(pmids, titles)"
   ]
  },
  {
   "cell_type": "code",
   "execution_count": null,
   "metadata": {},
   "outputs": [],
   "source": []
  }
 ],
 "metadata": {
  "kernelspec": {
   "display_name": "Python 3",
   "language": "python",
   "name": "python3"
  },
  "language_info": {
   "codemirror_mode": {
    "name": "ipython",
    "version": 3
   },
   "file_extension": ".py",
   "mimetype": "text/x-python",
   "name": "python",
   "nbconvert_exporter": "python",
   "pygments_lexer": "ipython3",
   "version": "3.8.3"
  }
 },
 "nbformat": 4,
 "nbformat_minor": 4
}
