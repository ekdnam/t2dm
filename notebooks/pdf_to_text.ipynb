{
 "cells": [
  {
   "cell_type": "code",
   "execution_count": 2,
   "metadata": {},
   "outputs": [],
   "source": [
    "import PyPDF2 as pdf "
   ]
  },
  {
   "cell_type": "code",
   "execution_count": 3,
   "metadata": {},
   "outputs": [],
   "source": [
    "fileObj = open('data/sales2014.pdf', 'rb')"
   ]
  },
  {
   "cell_type": "code",
   "execution_count": 4,
   "metadata": {},
   "outputs": [
    {
     "name": "stderr",
     "output_type": "stream",
     "text": [
      "PdfReadWarning: Xref table not zero-indexed. ID numbers for objects will be corrected. [pdf.py:1736]\n"
     ]
    }
   ],
   "source": [
    "reader = pdf.PdfFileReader(fileObj)"
   ]
  },
  {
   "cell_type": "code",
   "execution_count": 5,
   "metadata": {},
   "outputs": [
    {
     "name": "stdout",
     "output_type": "stream",
     "text": [
      "6\n"
     ]
    }
   ],
   "source": [
    "print(reader.numPages)"
   ]
  },
  {
   "cell_type": "code",
   "execution_count": 6,
   "metadata": {},
   "outputs": [],
   "source": [
    "pageObj = reader.getPage(0)"
   ]
  },
  {
   "cell_type": "code",
   "execution_count": 7,
   "metadata": {},
   "outputs": [
    {
     "name": "stdout",
     "output_type": "stream",
     "text": [
      "Eugeniapunicifolia\n",
      "(Kunth)DC.asanAdjuvant\n",
      "TreatmentforType-2DiabetesMellitus:A\n",
      "non-Controlled,PilotStudy\n",
      "DéboraSimoneSales,\n",
      "1FabioCarmona,\n",
      "1BrunaCestarideAzevedo,\n",
      "2SilviaHelenaTaleb-Contini,\n",
      "2AnaCarolinaDuóBartolomeu,\n",
      "2FernandoB.Honorato,\n",
      "1EdsonZ.Martinez\n",
      "1andAnaMariaSoaresPereira\n",
      "2*1RibeirãoPretoMedicalSchool,UniversityofSãoPaulo,AvenidadosBandeirantes,3900,MonteAlegre,RibeirãoPreto,SãoPaulo\n",
      "14049-900,Brazil\n",
      "2DepartmentofPlantBiotechnology,UniversityofRibeirãoPreto,AvenidaCostabileRomano,2201,Ribeirânia,RibeirãoPreto,São\n",
      "Paulo14096-900,Brazil\n",
      "Type-2diabetesmellitus(DM)isahighlyprevalentdiseasewithsignificantmorbidityandmortalityaroundthe\n",
      "world.However,thereisnouniversallyeffectivetreatment,becauseresponsetodifferenttreatmentregimenscan\n",
      "\n",
      "varywidelyamongpatients.Inthisstudy,weaimedtoinvestigatewhethertheuseofthepowdereddriedleaves\n",
      "\n",
      "ofEugeniapunicifolia\n",
      "(Kunth)DC.(Myrtaceae)iseffectiveasanadjuvanttothetreatmentofpatientswith\n",
      "type-2DM.Fifteenpatientswereenrolledinapilot,non-controlledstudy,andreceived\n",
      "E.punicifolia\n",
      "for3months.\n",
      "Aftertreatment,weobservedasignificantdecreaseinglycosylatedhemoglobin,basalinsulin,thyroid-stimulating\n",
      "\n",
      "hormone,C-reactiveprotein,andbothsystolicanddiastolicbloodpressure.Therewerenochangesinfastingand\n",
      "\n",
      "postprandialglycemia.Thecompoundsmyricetin-3-\n",
      "O-rhamnoside,quercetin-3-\n",
      "O-galactoside,quercetin-3-\n",
      "O-xyloside,quercetin-3-\n",
      "O-rhamnoside,kaempferol-3-\n",
      "O-rhamnoside,phytol,gallicacid,andtrans-caryophyllene\n",
      "presentinthepowdereddriedleavesof\n",
      "E.punicifolia\n",
      "mayberesponsibleforthetherapeuticeffect.Inconclusion,\n",
      "thepowderedleavesof\n",
      "E.punicifolia\n",
      "arepromisingasanadjuvantinthetreatmentoftype-2DManddeserve\n",
      "furtherinvestigation.Copyright©2014JohnWiley&Sons,Ltd.\n",
      "Keywords:\n",
      "myrtaceae;phytotherapeutics;hypoglycemicagents;herbalmedicine.\n",
      "INTRODUCTION\n",
      "Type-2diabetesmellitus(DM)isahighlyprevalentdis-\n",
      "ease,affectingmorethan20millionpeopleintheUSA\n",
      "\n",
      "(Blonde,2010).Itisresponsibleforsignificantmorbidity\n",
      "\n",
      "andmortality(Yeh\n",
      "etal\n",
      ".,2003;Blonde,2010).However,\n",
      "thereisnouniversallyeffectivetreatment,because\n",
      "\n",
      "responsetodifferenttreatmentregimenscanvarywidely\n",
      "\n",
      "amongpatients(Blonde,2009;Blonde,2010).\n",
      "Theuseofcomplementaryandalternativetreatments,\n",
      "includingtheuseofherbalmedicines,isincreasingamong\n",
      "\n",
      "diabeticpeople,becauseofpooradherencetotreatment,\n",
      "\n",
      "poordiseasecontrol,sideeffectsofconventionaldrugs,\n",
      "\n",
      "andculturalbeliefs(Yeh\n",
      "etal\n",
      ".,2003;Hui\n",
      "etal\n",
      ".,2009).\n",
      "Manyplantspecieshavebeenidentifiedaspromising\n",
      "\n",
      "sourcesofnewhypoglycemiantdrugs(Yeh\n",
      "etal\n",
      ".,2003;\n",
      "Negri,2005;Rao\n",
      "etal\n",
      ".,2010).Despitethis,onlyafew\n",
      "herbalmedicineshavebeenprovenusefulinhigh-quality\n",
      "\n",
      "studies(Hui\n",
      "etal\n",
      ".,2009).\n",
      "Eugeniapunicifolia\n",
      "(Kunth)DC.(Myrtaceae,\n",
      "‚pedra-\n",
      "ume-kaá™,Brazil)isa1\n",
      "Œ4mhighshrub.Fromabout500\n",
      "speciesof\n",
      "Eugenia,400arelocatedinBrazil.Itsleaves\n",
      "havebeentraditionallyusedinthetreatmentofdiabetic\n",
      "\n",
      "patients(Brunetti\n",
      "etal\n",
      ".,2006)andpossess\n",
      "antiinflammatoryandnicotinicantagonistactivities\n",
      "(Grangeiro\n",
      "etal\n",
      ".,2006;Leite\n",
      "etal\n",
      ".,2010).Themethano-\n",
      "licandaqueousextractsof\n",
      "E.punicifolia\n",
      ",studiedinanan-\n",
      "imalmodelofdiabetes,showedanorexiceffectand\n",
      "\n",
      "improvedcarbohydrateandproteinmetabolismwithout\n",
      "\n",
      "toxicity(Brunetti\n",
      "etal\n",
      ".,2006).However,todate,thishas\n",
      "neverbeeninvestigatedinhumans.\n",
      "Inthispilot,longitudinal,non-controlledstudy,weaimed\n",
      "toinvestigatetheeffectsof\n",
      "E.punicifolia\n",
      "onfastingand2h\n",
      "postprandialglycemia,glycosylatedhemoglobin,andother\n",
      "\n",
      "laboratorialtestsinadultswithtype-2DM.Wehypothesized\n",
      "\n",
      "thatE.punicifolia\n",
      "canenhancediseasecontrol.\n",
      "MATERIALSANDMETHODS\n",
      "Studydesign.\n",
      "Thisisapilot,longitudinal,non-controlled,\n",
      "open,phase-2interventionalstudy,comparingpatients\n",
      "withthemselvesbeforeandaftertheintervention.The\n",
      "studywasapprovedbyourlocalinstitutionalreview\n",
      "\n",
      "board(ResearchEthicsCommitteeofHCRPand\n",
      "\n",
      "FMRP-USP,process#737/2011).Asignedinformed\n",
      "\n",
      "consentwasobtainedfromallpatients.\n",
      "Patients.Alladultpatientswithaclinicaldiagnosisof\n",
      "type-2DMtreatedinourinstitution(Ambulatoryof\n",
      "\n",
      "Phytotherapeutics\n",
      "‚FarmáciadaNatureza\n",
      "™,Jardinópolis,\n",
      "Brazil)wereeligibleforthestudy.Inclusioncriteria\n",
      "*Correspondenceto:AnaMariaSoaresPereira,Departamentode\n",
      "BiotecnologiaVegetal,UniversidadedeRi\n",
      "beirãoPreto,AvenidaCostabileRo-\n",
      "mano,nº2201,Ribeirânia,RibeirãoPreto,SãoPaulo,Brasil,CEP14096-900.\n",
      "E-mail:apereira@unaerp.br\n",
      "PHYTOTHERAPYRESEARCH\n",
      "Phytother.Res.\n",
      "28:1816\n",
      "Œ1821(2014)\n",
      "Publishedonline6August2014inWileyOnlineLibrary\n",
      "\n",
      "(wileyonlinelibrary.com)\n",
      "DOI:10.1002/ptr.5206\n",
      "Copyright©2014JohnWiley&Sons,Ltd.\n",
      "Received11May2014\n",
      "Revised17June2014\n",
      "Accepted05July2014\n",
      "\n"
     ]
    }
   ],
   "source": [
    "print(pageObj.extractText())"
   ]
  },
  {
   "cell_type": "code",
   "execution_count": 13,
   "metadata": {},
   "outputs": [],
   "source": [
    "txtFile = open('data/sales2014.txt', 'w')"
   ]
  },
  {
   "cell_type": "code",
   "execution_count": 14,
   "metadata": {},
   "outputs": [
    {
     "data": {
      "text/plain": [
       "4429"
      ]
     },
     "execution_count": 14,
     "metadata": {},
     "output_type": "execute_result"
    }
   ],
   "source": [
    "txtFile.write(str(pageObj.extractText()))"
   ]
  },
  {
   "cell_type": "code",
   "execution_count": 15,
   "metadata": {},
   "outputs": [
    {
     "data": {
      "text/plain": [
       "str"
      ]
     },
     "execution_count": 15,
     "metadata": {},
     "output_type": "execute_result"
    }
   ],
   "source": [
    "type(pageObj.extractText())"
   ]
  },
  {
   "cell_type": "code",
   "execution_count": null,
   "metadata": {},
   "outputs": [],
   "source": []
  }
 ],
 "metadata": {
  "kernelspec": {
   "display_name": "Python 3",
   "language": "python",
   "name": "python3"
  },
  "language_info": {
   "codemirror_mode": {
    "name": "ipython",
    "version": 3
   },
   "file_extension": ".py",
   "mimetype": "text/x-python",
   "name": "python",
   "nbconvert_exporter": "python",
   "pygments_lexer": "ipython3",
   "version": "3.8.3"
  }
 },
 "nbformat": 4,
 "nbformat_minor": 4
}
